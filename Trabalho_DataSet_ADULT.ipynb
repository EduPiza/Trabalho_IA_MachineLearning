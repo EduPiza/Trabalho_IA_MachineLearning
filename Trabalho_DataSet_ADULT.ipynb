{
  "nbformat": 4,
  "nbformat_minor": 0,
  "metadata": {
    "colab": {
      "provenance": [],
      "collapsed_sections": [],
      "authorship_tag": "ABX9TyPSsCOWLVA33qRyVO8wd1RB",
      "include_colab_link": true
    },
    "kernelspec": {
      "name": "python3",
      "display_name": "Python 3"
    },
    "language_info": {
      "name": "python"
    }
  },
  "cells": [
    {
      "cell_type": "markdown",
      "metadata": {
        "id": "view-in-github",
        "colab_type": "text"
      },
      "source": [
        "<a href=\"https://colab.research.google.com/github/EduPiza/Trabalho_IA_MachineLearning/blob/main/Trabalho_DataSet_ADULT.ipynb\" target=\"_parent\"><img src=\"https://colab.research.google.com/assets/colab-badge.svg\" alt=\"Open In Colab\"/></a>"
      ]
    },
    {
      "cell_type": "code",
      "execution_count": 1,
      "metadata": {
        "id": "gbJqgV4GpnQZ"
      },
      "outputs": [],
      "source": [
        "# FIAP - FACULDADE DE INFORMÁTICA E ADMINISTRAÇÃO PAULISTA\n",
        "#\n",
        "# DISCIPLINA: AI & MACHINE LEARNING\n",
        "#\n",
        "# PROFESSOR DR. JOSE AHIRTON LOPES\n",
        "#\n",
        "# ALUNOS: RM344853 EDUARDO GOMES PIZA\n",
        "#         RM344858 FABRICIO ORFEU MERLO\n",
        "#         RM344965 HOMERO HUBER DE PÁDUA MAGALHÃES\n",
        "#         RM344930 WEBER CORGOSINHO AMARO"
      ]
    },
    {
      "cell_type": "code",
      "source": [
        "# Este código foi implementado visando a exemplificação prática\n",
        "# do processo de geração de modelo preditivo \"similar\" ao modelo\n",
        "# sugerido em nosso trabalho final. "
      ],
      "metadata": {
        "id": "6Wj2Mq8rqDCm"
      },
      "execution_count": 2,
      "outputs": []
    },
    {
      "cell_type": "code",
      "source": [],
      "metadata": {
        "id": "VlsskIeHqths"
      },
      "execution_count": null,
      "outputs": []
    }
  ]
}